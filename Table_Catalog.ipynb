{
 "cells": [
  {
   "cell_type": "code",
   "execution_count": 1,
   "metadata": {},
   "outputs": [],
   "source": [
    "import re\n",
    "\n",
    "def gettablenames(file_path):\n",
    "    with open(file_path, 'r') as file:\n",
    "        data = file.read()\n",
    "\n",
    "    # This removes comments\n",
    "    data = re.sub(r'/\\*.*?\\*/', '', data, flags=re.DOTALL)\n",
    "\n",
    "    # This is our pattern list that we want to match on from the code that we will be passing it\n",
    "    pattern_list = [\n",
    "        r'create table\\s+(\\w+\\.?\\w+|\\w+)',              \n",
    "        r'insert into\\s+(\\w+\\.?\\w+|\\w+)',               \n",
    "        r'update\\s+(\\w+\\.?\\w+|\\w+)\\s+set',              \n",
    "        r'delete from\\s+(\\w+\\.?\\w+|\\w+)',               \n",
    "        r'drop table\\s+(\\w+\\.?\\w+|\\w+)',               \n",
    "        r'from\\s+([\\w\\.]+(?:\\s+[a-z]\\w*)?(?:\\s*,\\s*[\\w\\.]+(?:\\s+[a-z]\\w*)?)*)',\n",
    "        r'join\\s+(\\w+\\.?\\w+|\\w+)',\n",
    "        r'data\\s+(\\w+\\.?\\w+|\\w+)',\n",
    "        r'set\\s+((?:\\w+\\.?\\w+|\\w+)(?:\\s+(?:\\w+\\.?\\w+|\\w+))*)'\n",
    "    ]\n",
    "\n",
    "    all_patterns = '|'.join(pattern_list)\n",
    "\n",
    "    matches = re.findall(all_patterns, data, re.IGNORECASE)\n",
    "\n",
    "    flat_matches = []\n",
    "    for group in matches:\n",
    "        for match in group:\n",
    "            if match:\n",
    "                # Handle comma-separated table lists in FROM clause, with aliases\n",
    "                if ',' in match:\n",
    "                    tables = [table.split()[0].strip() for table in match.split(',')]  # Remove aliases\n",
    "                    flat_matches.extend(tables)\n",
    "                else:\n",
    "                    flat_matches.append(match.split()[0].strip())  # Remove aliases\n",
    "\n",
    "    # Remove duplicates and sort the table names\n",
    "    return sorted(set(flat_matches))"
   ]
  },
  {
   "cell_type": "code",
   "execution_count": 2,
   "metadata": {},
   "outputs": [
    {
     "data": {
      "text/plain": [
       "['inline_table2',\n",
       " 'schema1.test_table60',\n",
       " 'schema2.test_table61',\n",
       " 'test_table50',\n",
       " 'test_table51',\n",
       " 'test_table52',\n",
       " 'test_table53',\n",
       " 'test_table54',\n",
       " 'test_table55',\n",
       " 'test_table56',\n",
       " 'test_table57',\n",
       " 'test_table58',\n",
       " 'test_table59',\n",
       " 'test_table62',\n",
       " 'test_table63',\n",
       " 'test_table64',\n",
       " 'test_table65']"
      ]
     },
     "execution_count": 2,
     "metadata": {},
     "output_type": "execute_result"
    }
   ],
   "source": [
    "gettablenames('test_data.txt')"
   ]
  }
 ],
 "metadata": {
  "kernelspec": {
   "display_name": ".venv",
   "language": "python",
   "name": "python3"
  },
  "language_info": {
   "codemirror_mode": {
    "name": "ipython",
    "version": 3
   },
   "file_extension": ".py",
   "mimetype": "text/x-python",
   "name": "python",
   "nbconvert_exporter": "python",
   "pygments_lexer": "ipython3",
   "version": "3.11.8"
  }
 },
 "nbformat": 4,
 "nbformat_minor": 2
}
